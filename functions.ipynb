{
 "cells": [
  {
   "cell_type": "markdown",
   "metadata": {},
   "source": [
    "# Function"
   ]
  },
  {
   "cell_type": "code",
   "execution_count": 7,
   "metadata": {},
   "outputs": [],
   "source": [
    "# function definition\n",
    "def greet() -> None:\n",
    "    print(\"Welcome!\")\n",
    "    print(\"how Can I help You?\")"
   ]
  },
  {
   "cell_type": "code",
   "execution_count": 5,
   "metadata": {},
   "outputs": [
    {
     "name": "stdout",
     "output_type": "stream",
     "text": [
      "Welcome!\n",
      "how Can I help You?\n"
     ]
    }
   ],
   "source": [
    "#calling a function\n",
    "greet()"
   ]
  },
  {
   "cell_type": "markdown",
   "metadata": {},
   "source": [
    "# Function with positional parameters and args"
   ]
  },
  {
   "cell_type": "code",
   "execution_count": 15,
   "metadata": {},
   "outputs": [],
   "source": [
    "def greet(fname: str, lname: str) -> None:\n",
    "    \"\"\"\n",
    "    This function will greet people with their name\n",
    "    >>> greet('Alexa', 'Smith)\n",
    "    Welcome  Alexa\n",
    "    how Can I help You?\n",
    "    \"\"\"\n",
    "    print(\"Welcome \", f'{fname}@{lname}')\n",
    "    print(\"how Can I help You?\")"
   ]
  },
  {
   "cell_type": "code",
   "execution_count": 18,
   "metadata": {},
   "outputs": [
    {
     "name": "stdout",
     "output_type": "stream",
     "text": [
      "Welcome  Smith@Alexa\n",
      "how Can I help You?\n"
     ]
    }
   ],
   "source": [
    "greet('Smith', 'Alexa')"
   ]
  },
  {
   "cell_type": "code",
   "execution_count": null,
   "metadata": {},
   "outputs": [],
   "source": []
  },
  {
   "cell_type": "markdown",
   "metadata": {},
   "source": [
    "# Function witk keyword argumnets"
   ]
  },
  {
   "cell_type": "code",
   "execution_count": 20,
   "metadata": {},
   "outputs": [],
   "source": [
    "def greet(fname: str='', lname: str='') -> None:\n",
    "    \"\"\"\n",
    "    This function will greet people with their name\n",
    "    >>> greet('Alexa', 'Smith)\n",
    "    Welcome  Alexa\n",
    "    how Can I help You?\n",
    "    \"\"\"\n",
    "    print(\"Welcome \", f'{fname}@{lname}')\n",
    "    print(\"how Can I help You?\")"
   ]
  },
  {
   "cell_type": "code",
   "execution_count": 24,
   "metadata": {},
   "outputs": [
    {
     "name": "stdout",
     "output_type": "stream",
     "text": [
      "Welcome  Alexa@Smith\n",
      "how Can I help You?\n"
     ]
    }
   ],
   "source": [
    "greet(lname='Smith', fname='Alexa')"
   ]
  },
  {
   "cell_type": "markdown",
   "metadata": {},
   "source": [
    "# Function with return"
   ]
  },
  {
   "cell_type": "code",
   "execution_count": 38,
   "metadata": {},
   "outputs": [],
   "source": [
    "def is_divisible(dividend:int=4, divisor:int=2) -> str:\n",
    "    if dividend%divisor == 0:\n",
    "        return f'{dividend} is divisible by {divisor}'\n",
    "    else:\n",
    "        return f'{dividend} is Not divisible by {divisor}'"
   ]
  },
  {
   "cell_type": "code",
   "execution_count": 39,
   "metadata": {},
   "outputs": [],
   "source": [
    "res = is_divisible(8, 3)"
   ]
  },
  {
   "cell_type": "code",
   "execution_count": 40,
   "metadata": {},
   "outputs": [
    {
     "name": "stdout",
     "output_type": "stream",
     "text": [
      "8 is Not divisible by 3\n"
     ]
    }
   ],
   "source": [
    "print(res)"
   ]
  },
  {
   "cell_type": "code",
   "execution_count": 41,
   "metadata": {},
   "outputs": [
    {
     "data": {
      "text/plain": [
       "'8 is Not divisible by 3'"
      ]
     },
     "execution_count": 41,
     "metadata": {},
     "output_type": "execute_result"
    }
   ],
   "source": [
    "res"
   ]
  },
  {
   "cell_type": "markdown",
   "metadata": {},
   "source": [
    "# dynamic *args"
   ]
  },
  {
   "cell_type": "code",
   "execution_count": 63,
   "metadata": {},
   "outputs": [],
   "source": [
    "def is_even(*nums) -> list:\n",
    "    result = []\n",
    "    for num in nums:\n",
    "        if num%2 ==0:\n",
    "            result.append((num, True))\n",
    "        else:\n",
    "            result.append((num, False))\n",
    "    return result"
   ]
  },
  {
   "cell_type": "code",
   "execution_count": 66,
   "metadata": {},
   "outputs": [
    {
     "data": {
      "text/plain": [
       "[(8, True), (4, True), (5, False), (3, False), (23, False), (756, True)]"
      ]
     },
     "execution_count": 66,
     "metadata": {},
     "output_type": "execute_result"
    }
   ],
   "source": [
    "is_even(8,4,5,3,23,756,)"
   ]
  },
  {
   "cell_type": "markdown",
   "metadata": {},
   "source": [
    "# **kwargs"
   ]
  },
  {
   "cell_type": "code",
   "execution_count": 70,
   "metadata": {},
   "outputs": [],
   "source": [
    "def getUserInfo(**kwargs) -> list:\n",
    "    for key, val in kwargs.items():\n",
    "        print(key, \": \", val)"
   ]
  },
  {
   "cell_type": "code",
   "execution_count": 72,
   "metadata": {},
   "outputs": [
    {
     "name": "stdout",
     "output_type": "stream",
     "text": [
      "fname :  Alley\n",
      "lname :  Smith\n",
      "email :  alley@gmail.com\n",
      "username :  alley745@\n"
     ]
    }
   ],
   "source": [
    "getUserInfo(fname='Alley', lname='Smith', email='alley@gmail.com', username=\"alley745@\")"
   ]
  },
  {
   "cell_type": "code",
   "execution_count": null,
   "metadata": {},
   "outputs": [],
   "source": []
  }
 ],
 "metadata": {
  "kernelspec": {
   "display_name": "Python 3.10.2 64-bit",
   "language": "python",
   "name": "python3"
  },
  "language_info": {
   "codemirror_mode": {
    "name": "ipython",
    "version": 3
   },
   "file_extension": ".py",
   "mimetype": "text/x-python",
   "name": "python",
   "nbconvert_exporter": "python",
   "pygments_lexer": "ipython3",
   "version": "3.10.2"
  },
  "orig_nbformat": 4,
  "vscode": {
   "interpreter": {
    "hash": "369f2c481f4da34e4445cda3fffd2e751bd1c4d706f27375911949ba6bb62e1c"
   }
  }
 },
 "nbformat": 4,
 "nbformat_minor": 2
}
