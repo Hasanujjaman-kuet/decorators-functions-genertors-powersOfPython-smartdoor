{
 "cells": [
  {
   "cell_type": "code",
   "execution_count": null,
   "metadata": {},
   "outputs": [],
   "source": [
    "# Smart Door Program\n",
    "# password = 'open@2022', security_question='Favourite Color?', naswer='black'\n",
    "# it will take password\n",
    "# then it will check password, if matched door will be opening\n",
    "# if the password is wrong then it will say worng Password Trye again\n",
    "# it will again take password an will follow the same\n",
    "# the max try is 3, after maxtry the program will ask for security answer\n",
    "# if security answer matches then help hime to reset the password\n",
    "# if answer is wrong the say door locked you are a robber"
   ]
  }
 ],
 "metadata": {
  "language_info": {
   "name": "python"
  },
  "orig_nbformat": 4
 },
 "nbformat": 4,
 "nbformat_minor": 2
}
